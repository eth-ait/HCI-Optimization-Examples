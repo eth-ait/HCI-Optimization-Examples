{
 "cells": [
  {
   "cell_type": "code",
   "execution_count": 56,
   "metadata": {},
   "outputs": [],
   "source": [
    "import matplotlib.pyplot as plt\n",
    "import random\n",
    "import numpy as np\n",
    "import copy\n",
    "import itertools\n",
    "import timeit"
   ]
  },
  {
   "cell_type": "code",
   "execution_count": 70,
   "metadata": {
    "pycharm": {
     "name": "#%%\n"
    }
   },
   "outputs": [],
   "source": [
    "#[name, importance]\n",
    "problem=[\n",
    "    [\"Home\", 0.15],\n",
    "    [\"About\", 0.25],\n",
    "    [\"Save\", 0.15],\n",
    "    [\"Open\", 0.1],\n",
    "    [\"Export\", 0.4],\n",
    "    [\"Import\", 0.6],\n",
    "    [\"Contact\", 0.7],\n",
    "    [\"Research\", 0.1],\n",
    "]"
   ]
  },
  {
   "cell_type": "code",
   "execution_count": 71,
   "metadata": {
    "pycharm": {
     "name": "#%%\n"
    }
   },
   "outputs": [],
   "source": [
    "def fitts_law(slot_index):\n",
    "    a= 0.03\n",
    "    b= 0.1\n",
    "    height = 20 #px\n",
    "    width =  100 #px\n",
    "    distance = (slot_index+1/2)*height\n",
    "    return a+b*np.log2(distance/width + 1)"
   ]
  },
  {
   "cell_type": "code",
   "execution_count": 72,
   "metadata": {
    "pycharm": {
     "name": "#%%\n"
    }
   },
   "outputs": [],
   "source": [
    "def objective_linear(menu):\n",
    "    cost = 0\n",
    "    for slot_index, item in enumerate(menu):\n",
    "        cost += item[1]*fitts_law(slot_index)\n",
    "    return cost"
   ]
  },
  {
   "cell_type": "code",
   "execution_count": 73,
   "metadata": {
    "pycharm": {
     "name": "#%%\n"
    }
   },
   "outputs": [],
   "source": [
    "def random_solver(menu, n_iterations = 50):\n",
    "    solution = menu\n",
    "    best_cost = np.inf\n",
    "    for iteration in range(n_iterations):\n",
    "        random.shuffle(menu)\n",
    "        cost = objective_linear(menu)\n",
    "        if cost<best_cost:\n",
    "            solution = copy.deepcopy(menu)\n",
    "            best_cost=cost\n",
    "    return solution"
   ]
  },
  {
   "cell_type": "code",
   "execution_count": 91,
   "metadata": {
    "pycharm": {
     "name": "#%%\n"
    }
   },
   "outputs": [],
   "source": [
    "def full_solver(menu, n_iterations):\n",
    "    solution = menu\n",
    "    best_cost = np.inf\n",
    "    cost = objective_linear(menu)\n",
    "    for combination in itertools.permutations(solution, len(solution)):\n",
    "        cost = objective_linear(combination)\n",
    "        if cost<best_cost:\n",
    "                solution = copy.deepcopy(combination)\n",
    "                best_cost=cost\n",
    "    return solution"
   ]
  },
  {
   "cell_type": "code",
   "execution_count": 94,
   "metadata": {
    "pycharm": {
     "name": "#%%\n"
    }
   },
   "outputs": [
    {
     "name": "stdout",
     "output_type": "stream",
     "text": [
      "666 ms ± 34.7 ms per loop (mean ± std. dev. of 7 runs, 1 loop each)\n",
      "68.2 ms ± 1.69 ms per loop (mean ± std. dev. of 7 runs, 10 loops each)\n",
      "8.55 ms ± 123 µs per loop (mean ± std. dev. of 7 runs, 100 loops each)\n"
     ]
    }
   ],
   "source": [
    "\n",
    "def run(menu, solver, n_iterations=100):\n",
    "    solution = solver(menu, n_iterations)\n",
    "    return solution\n",
    "\n",
    "print(run(problem, full_solver, None))\n",
    "%timeit run(problem, full_solver, None)\n",
    "%timeit run(problem[1:], full_solver, None)\n",
    "%timeit run(problem[2:], full_solver, None)"
   ]
  },
  {
   "cell_type": "code",
   "execution_count": 97,
   "metadata": {},
   "outputs": [
    {
     "name": "stdout",
     "output_type": "stream",
     "text": [
      "296 µs ± 18.8 µs per loop (mean ± std. dev. of 7 runs, 1000 loops each)\n",
      "2.04 ms ± 119 µs per loop (mean ± std. dev. of 7 runs, 1000 loops each)\n",
      "30.2 ms ± 4.79 ms per loop (mean ± std. dev. of 7 runs, 100 loops each)\n"
     ]
    }
   ],
   "source": [
    "print(run(problem, random_solver, n_iterations=1000))\n",
    "%timeit run(problem, random_solver, n_iterations=10)\n",
    "%timeit run(problem, random_solver, n_iterations=100)\n",
    "%timeit run(problem, random_solver, n_iterations=1000)"
   ]
  },
  {
   "cell_type": "code",
   "execution_count": null,
   "metadata": {},
   "outputs": [],
   "source": []
  }
 ],
 "metadata": {
  "kernelspec": {
   "display_name": "Python 3",
   "language": "python",
   "name": "python3"
  },
  "language_info": {
   "codemirror_mode": {
    "name": "ipython",
    "version": 3
   },
   "file_extension": ".py",
   "mimetype": "text/x-python",
   "name": "python",
   "nbconvert_exporter": "python",
   "pygments_lexer": "ipython3",
   "version": "3.8.2"
  }
 },
 "nbformat": 4,
 "nbformat_minor": 1
}