{
 "cells": [
  {
   "cell_type": "markdown",
   "metadata": {},
   "source": [
    "# Introduction\n",
    "\n",
    "In this notebook we will explore random and exhaustive search. Specifically we will apply this to a menu optimization problem. Here we assume the menu is 1 dimensional. Our problem is defined as $n$ menu items and each has an importance weight. Our objective is to minimize the weight sum of movement times. "
   ]
  },
  {
   "cell_type": "code",
   "execution_count": 1,
   "metadata": {},
   "outputs": [],
   "source": [
    "import matplotlib.pyplot as plt\n",
    "import random\n",
    "import numpy as np\n",
    "import copy\n",
    "import itertools\n",
    "import timeit"
   ]
  },
  {
   "cell_type": "markdown",
   "metadata": {},
   "source": [
    "Here we define our problem. In our case we defined it as a nest list. Each sublist has a name and importance weight. "
   ]
  },
  {
   "cell_type": "code",
   "execution_count": 2,
   "metadata": {
    "pycharm": {
     "name": "#%%\n"
    }
   },
   "outputs": [],
   "source": [
    "#[name, importance]\n",
    "problem=[\n",
    "    [\"Home\", 0.15],\n",
    "    [\"About\", 0.25],\n",
    "    [\"Save\", 0.15],\n",
    "    [\"Open\", 0.1],\n",
    "    [\"Export\", 0.4],\n",
    "    [\"Import\", 0.6],\n",
    "    [\"Contact\", 0.7],\n",
    "    [\"Research\", 0.1],\n",
    "]"
   ]
  },
  {
   "cell_type": "markdown",
   "metadata": {},
   "source": [
    "One element of the cost term is Fitts law. This is used to calculate the movement time from the start to each slot.\n",
    "Note that we use the height of a slot here in the Fitts law formulation instead of width.\n",
    "This is due to how the width is defined in fitts law. See the lecture for more information\n",
    "Fitts law (Shannon) is defined as $MT=a+b*\\log_2(\\frac{D}{W}+1)$ We used an arbitrary value for a and b here. The $W$ is\n",
    "the width of an element along the travel distance.\n",
    "\n",
    "<img src=\"figures/fitts.gif\">\n",
    "\n",
    "Since all the items are directly neighboring. We can simply take the index of a slot and multiply that by its height.\n",
    "This would describe a vertical menu."
   ]
  },
  {
   "cell_type": "code",
   "execution_count": 3,
   "metadata": {
    "pycharm": {
     "name": "#%%\n"
    }
   },
   "outputs": [],
   "source": [
    "def fitts_law(slot_index):\n",
    "    a= 0.03\n",
    "    b= 0.1\n",
    "    height = 20 #px\n",
    "    width =  100 #px\n",
    "    distance = (slot_index+1/2)*height\n",
    "    return a+b*np.log2(distance/height + 1)"
   ]
  },
  {
   "cell_type": "markdown",
   "metadata": {},
   "source": [
    "## Objective\n",
    "Now it is time to define our objective term.\n",
    "This is the sum over all items in our menu.\n",
    "We weight this by the importance of each item.\n",
    "So a lower movement time is more important for relevant items."
   ]
  },
  {
   "cell_type": "code",
   "execution_count": 4,
   "metadata": {
    "pycharm": {
     "name": "#%%\n"
    }
   },
   "outputs": [],
   "source": [
    "def objective_linear(menu):\n",
    "    cost = 0\n",
    "    for slot_index, item in enumerate(menu):\n",
    "        cost += item[1]*fitts_law(slot_index)\n",
    "    return cost"
   ]
  },
  {
   "cell_type": "markdown",
   "metadata": {},
   "source": [
    "## Random Solver\n",
    "We define our first solver. This is a random solver.\n",
    "Probably the most basic solver out there.\n",
    "We try random solutions and keep the best. We do this ```n_iterations``` times."
   ]
  },
  {
   "cell_type": "code",
   "execution_count": 6,
   "metadata": {
    "pycharm": {
     "name": "#%%\n"
    }
   },
   "outputs": [],
   "source": [
    "def random_solver(menu, n_iterations = 50):\n",
    "    solution = menu\n",
    "    best_cost = np.inf\n",
    "    for iteration in range(n_iterations):\n",
    "        random.shuffle(menu)\n",
    "        cost = objective_linear(menu)\n",
    "        if cost<best_cost:\n",
    "            solution = copy.deepcopy(menu)\n",
    "            best_cost=cost\n",
    "    return solution"
   ]
  },
  {
   "cell_type": "markdown",
   "metadata": {},
   "source": [
    "## Full Solver\n",
    "Another way to solve this by literally trying every possible combination. We will see that this scales extremely poor. "
   ]
  },
  {
   "cell_type": "code",
   "execution_count": 7,
   "metadata": {
    "pycharm": {
     "name": "#%%\n"
    }
   },
   "outputs": [],
   "source": [
    "def full_solver(menu, n_iterations):\n",
    "    solution = menu\n",
    "    best_cost = np.inf\n",
    "    cost = objective_linear(menu)\n",
    "    for combination in itertools.permutations(solution, len(solution)):\n",
    "        cost = objective_linear(combination)\n",
    "        if cost<best_cost:\n",
    "                solution = copy.deepcopy(combination)\n",
    "                best_cost=cost\n",
    "    return solution"
   ]
  },
  {
   "cell_type": "markdown",
   "metadata": {
    "pycharm": {
     "name": "#%% md\n"
    }
   },
   "source": [
    "## Running both\n",
    "Here we run the full solver for different amount of meny items. Notice of for each additional item the solve\n",
    "time increase almost 10 fold."
   ]
  },
  {
   "cell_type": "code",
   "execution_count": 8,
   "metadata": {
    "pycharm": {
     "name": "#%%\n"
    }
   },
   "outputs": [
    {
     "name": "stdout",
     "output_type": "stream",
     "text": [
      "(['Contact', 0.7], ['Import', 0.6], ['Export', 0.4], ['About', 0.25], ['Home', 0.15], ['Save', 0.15], ['Open', 0.1], ['Research', 0.1])\n",
      "584 ms ± 38.7 ms per loop (mean ± std. dev. of 7 runs, 1 loop each)\n",
      "75.3 ms ± 7.52 ms per loop (mean ± std. dev. of 7 runs, 10 loops each)\n",
      "9.62 ms ± 620 µs per loop (mean ± std. dev. of 7 runs, 100 loops each)\n"
     ]
    }
   ],
   "source": [
    "\n",
    "def run(menu, solver, n_iterations=100):\n",
    "    solution = solver(menu, n_iterations)\n",
    "    return solution\n",
    "\n",
    "print(run(problem, full_solver, None))\n",
    "%timeit run(problem, full_solver, None)\n",
    "%timeit run(problem[1:], full_solver, None)\n",
    "%timeit run(problem[2:], full_solver, None)"
   ]
  },
  {
   "cell_type": "markdown",
   "metadata": {},
   "source": [
    "We do a similar experiment for the random solver.\n",
    "Here the solve time scales linear with the number of iterations. But the likelihood of\n",
    "getting a good solution decreases with the number of menu items."
   ]
  },
  {
   "cell_type": "code",
   "execution_count": null,
   "metadata": {
    "pycharm": {
     "name": "#%%\n"
    }
   },
   "outputs": [],
   "source": [
    "print(run(problem, random_solver, n_iterations=1000))\n",
    "%timeit run(problem, random_solver, n_iterations=10)\n",
    "%timeit run(problem, random_solver, n_iterations=100)\n",
    "%timeit run(problem, random_solver, n_iterations=1000)"
   ]
  },
  {
   "cell_type": "code",
   "execution_count": 9,
   "metadata": {},
   "outputs": [
    {
     "name": "stdout",
     "output_type": "stream",
     "text": [
      "[['Contact', 0.7], ['Import', 0.6], ['Export', 0.4], ['About', 0.25], ['Save', 0.15], ['Open', 0.1], ['Research', 0.1], ['Home', 0.15]]\n",
      "305 µs ± 35.5 µs per loop (mean ± std. dev. of 7 runs, 1000 loops each)\n",
      "2.24 ms ± 112 µs per loop (mean ± std. dev. of 7 runs, 100 loops each)\n",
      "21.1 ms ± 1.14 ms per loop (mean ± std. dev. of 7 runs, 100 loops each)\n"
     ]
    }
   ],
   "source": [
    "print(run(problem, random_solver, n_iterations=1000))\n",
    "%timeit run(problem, random_solver, n_iterations=10)\n",
    "%timeit run(problem, random_solver, n_iterations=100)\n",
    "%timeit run(problem, random_solver, n_iterations=1000)"
   ]
  },
  {
   "cell_type": "code",
   "execution_count": null,
   "metadata": {},
   "outputs": [],
   "source": []
  }
 ],
 "metadata": {
  "kernelspec": {
   "display_name": "Python 3",
   "language": "python",
   "name": "python3"
  },
  "language_info": {
   "codemirror_mode": {
    "name": "ipython",
    "version": 3
   },
   "file_extension": ".py",
   "mimetype": "text/x-python",
   "name": "python",
   "nbconvert_exporter": "python",
   "pygments_lexer": "ipython3",
   "version": "3.8.2"
  }
 },
 "nbformat": 4,
 "nbformat_minor": 1
}