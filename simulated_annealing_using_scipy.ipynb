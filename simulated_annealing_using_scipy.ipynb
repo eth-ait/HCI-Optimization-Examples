{
 "cells": [
  {
   "cell_type": "markdown",
   "metadata": {
    "collapsed": true,
    "pycharm": {
     "name": "#%% md\n"
    }
   },
   "source": [
    "# Simulated Annealing - Introduction\n",
    "\n",
    "In this notebook we will introduce you to simulated annealing. Instead of showing this from scratch, we will be using scipy.\n",
    "This is level of fidelity we would expected from your implementation. We implement dual annealing here, which is an improved version\n",
    "of standard simulated annealing.\n",
    "\n",
    "scipy: https://docs.scipy.org/doc/scipy/reference/generated/scipy.optimize.dual_annealing.html\n",
    "wiki: https://en.wikipedia.org/wiki/Simulated_annealing\n",
    "\n",
    "> Simulated annealing (SA) is a probabilistic technique for approximating the global optimum of a given function. Specifically, it is a metaheuristic to approximate global optimization in a large search space for an optimization problem. It is often used when the search space is discrete (e.g., the traveling salesman problem). For problems where finding an approximate global optimum is more important than finding a precise local optimum in a fixed amount of time, simulated annealing may be preferable to exact algorithms such as gradient descent, Branch and Bound.\n",
    "\n",
    "In our case we again have multiple people in a conference call. This time we want to determine how loud a certain speaker should be.\n",
    "The volume is denoted as a continuous value between 0 and 1."
   ]
  },
  {
   "cell_type": "code",
   "execution_count": 2,
   "metadata": {
    "pycharm": {
     "name": "#%%\n"
    }
   },
   "outputs": [],
   "source": [
    "import numpy as np\n",
    "from scipy.optimize import dual_annealing"
   ]
  },
  {
   "cell_type": "markdown",
   "metadata": {
    "pycharm": {
     "name": "#%% md\n"
    }
   },
   "source": [
    "We define our problem. The first column is purely for our reference and does not serve a purpose in our optimization. \n",
    "To show the power of this method we heavily increase the number of people in our call, \n",
    "the search space now has 15-dimensions."
   ]
  },
  {
   "cell_type": "code",
   "execution_count": 8,
   "metadata": {
    "pycharm": {
     "name": "#%%\n"
    }
   },
   "outputs": [],
   "source": [
    "importance = [\n",
    "        [\"Velko\", 1],\n",
    "        [\"Andreas\", 2.22],\n",
    "        [\"Otmar\",3],\n",
    "        [\"Hugo\",2],\n",
    "        [\"Christian\",3],\n",
    "        [\"David\",2.5],\n",
    "        [\"Thomas\",1.25],\n",
    "        [\"Student A\", np.random.normal(1, 0.5)],\n",
    "        [\"Student B\", np.random.normal(1, 0.5)],\n",
    "        [\"Student C\", np.random.normal(1, 0.5)],\n",
    "        [\"Student D\", np.random.normal(1, 0.5)],\n",
    "        [\"Student E\", np.random.normal(1, 0.5)],\n",
    "        [\"Student F\", np.random.normal(1, 0.5)],\n",
    "        [\"Student g\", np.random.normal(1, 0.5)],\n",
    "    ]\n",
    "max_volume_weight = 1\n",
    "params = (importance, max_volume_weight)"
   ]
  },
  {
   "cell_type": "markdown",
   "metadata": {
    "pycharm": {
     "name": "#%% md\n"
    }
   },
   "source": [
    "We define an objective function. We reward a high volume for a more important weight. \n",
    "We penalize the difference between of the sum of all volumes and 1. \n",
    "To preserve our cognitive capabilities. \n",
    "We multiply our reward function by -1 to make it a cost function (the library expects a function to be minimized)"
   ]
  },
  {
   "cell_type": "code",
   "execution_count": 9,
   "metadata": {
    "pycharm": {
     "name": "#%%\n"
    }
   },
   "outputs": [],
   "source": [
    "def objective(possible_solution, *params):\n",
    "    problem, max_volume_weight = params\n",
    "    normalizer = np.sum([x[1] for x in problem])\n",
    "    weights = [x[1]/normalizer for x in problem]\n",
    "    cost = 0\n",
    "    for volume, weight in zip(possible_solution, weights):\n",
    "        cost += volume*weight\n",
    "    return -1*(cost - max_volume_weight*(1-np.sum(possible_solution))**2)\n"
   ]
  },
  {
   "cell_type": "markdown",
   "metadata": {},
   "source": [
    "We define the upper and lower bound of our search space. \n",
    "In our case it is a percentage of max volume. So it cannot be below 0 or above 1."
   ]
  },
  {
   "cell_type": "code",
   "execution_count": 10,
   "metadata": {
    "pycharm": {
     "name": "#%%\n"
    }
   },
   "outputs": [],
   "source": [
    "#Define the upper and lower bound:\n",
    "lw = [0] * len(importance)\n",
    "up = [1] * len(importance)"
   ]
  },
  {
   "cell_type": "code",
   "execution_count": 11,
   "metadata": {
    "pycharm": {
     "name": "#%%\n"
    }
   },
   "outputs": [],
   "source": [
    "res = dual_annealing(objective, bounds=list(zip(lw, up)), args=params)\n"
   ]
  },
  {
   "cell_type": "code",
   "execution_count": 12,
   "metadata": {},
   "outputs": [
    {
     "name": "stdout",
     "output_type": "stream",
     "text": [
      "     fun: -0.13665803375857644\n",
      " message: ['Maximum number of iteration reached']\n",
      "    nfev: 28481\n",
      "    nhev: 0\n",
      "     nit: 1000\n",
      "    njev: 32\n",
      "  status: 0\n",
      " success: True\n",
      "       x: array([0.        , 0.        , 0.51203314, 0.        , 0.55410851,\n",
      "       0.        , 0.        , 0.        , 0.        , 0.        ,\n",
      "       0.        , 0.        , 0.        , 0.        ])\n"
     ]
    }
   ],
   "source": [
    "print(res)"
   ]
  },
  {
   "cell_type": "code",
   "execution_count": null,
   "metadata": {},
   "outputs": [],
   "source": []
  }
 ],
 "metadata": {
  "kernelspec": {
   "display_name": "Python 3",
   "language": "python",
   "name": "python3"
  },
  "language_info": {
   "codemirror_mode": {
    "name": "ipython",
    "version": 3
   },
   "file_extension": ".py",
   "mimetype": "text/x-python",
   "name": "python",
   "nbconvert_exporter": "python",
   "pygments_lexer": "ipython3",
   "version": "3.8.2"
  }
 },
 "nbformat": 4,
 "nbformat_minor": 1
}