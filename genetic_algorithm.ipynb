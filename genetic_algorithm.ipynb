{
 "cells": [
  {
   "cell_type": "markdown",
   "metadata": {},
   "source": [
    "# Genetic Algorithm - Introduction\n",
    "\n",
    "A genetic algorithm is a type of evolutionary strategy (ES). We will apply biological inspired operations to a problem. In our case we have 7 zoom participants. However some are more important than others. Given that you want to show as many important people as possible, but the cognitive cost increases. Who should you show? In general this method outperforms random search on bigger problems, where exhaustive search is infeasible.\n",
    "Checkout this package if you want a reliable, often used ES solver in python: https://pypi.org/project/cma/, based on this: https://en.wikipedia.org/wiki/CMA-ES"
   ]
  },
  {
   "cell_type": "code",
   "execution_count": 2,
   "metadata": {},
   "outputs": [],
   "source": [
    "import random\n",
    "import numpy as np\n",
    "import copy"
   ]
  },
  {
   "cell_type": "markdown",
   "metadata": {},
   "source": [
    "We define our problem as follows. We use a nested list. \n",
    "Each sublist has three items. The participants name, their importance, and and flag on shown or not {0,1}."
   ]
  },
  {
   "cell_type": "code",
   "execution_count": 3,
   "metadata": {
    "pycharm": {
     "is_executing": true,
     "name": "#%%\n"
    }
   },
   "outputs": [],
   "source": [
    "#[who, importance, show]\n",
    "problem = [\n",
    "    [\"Velko\", 1, 0],\n",
    "    [\"Andreas\", 2.22, 0],\n",
    "    [\"Otmar\",3, 0],\n",
    "    [\"Hugo\",2,0],\n",
    "    [\"Christian\",3,0],\n",
    "    [\"David\",2.5,0],\n",
    "    [\"Thomas\",1.25,0]\n",
    "]"
   ]
  },
  {
   "cell_type": "markdown",
   "metadata": {},
   "source": [
    "## Objective\n",
    "\n",
    "We define our objective relatively straight forward. If a person is shown we add their \n",
    "important to our score. We penalize with the number of people shown squared. \n",
    "The trade-off between showing people and cognitive cost is weighted."
   ]
  },
  {
   "cell_type": "code",
   "execution_count": 4,
   "metadata": {
    "pycharm": {
     "is_executing": true,
     "name": "#%%\n"
    }
   },
   "outputs": [],
   "source": [
    "def objective(possible_solution):\n",
    "    score = 0\n",
    "    n_shown = 0\n",
    "    for person in possible_solution:\n",
    "        score += person[1] * person[2]\n",
    "        n_shown += person[2]\n",
    "    return 0.8*score - 0.2*n_shown**2"
   ]
  },
  {
   "cell_type": "markdown",
   "metadata": {},
   "source": [
    "## Solver\n",
    "This solver is already getting a lot more complex than a random or full search. Which could suffice for this problem. \n",
    "There are plenty of libraries who have implemented this. \n",
    "Feel free to use those. There will be comments in the code explaining elements in more detail. \n",
    "In general the concept of ES is based around the notion of a population. \n",
    "A population consists out of chromosomes or individuals, and each individual has a gene. \n",
    "Individuals can be seen as feasible solutions. \n",
    "\n",
    "<img src=\"figures/genetic_algorithm.png\">\n",
    "\n",
    "We start by defining a random initial population of an certain size. For each individual in this population \n",
    "we calculate their fitness (in our case the objective defined above, higher is better). We take the best parents \n",
    "based on their fitness. From this selection we randomly select two. This will spawn a child. We do this be \n",
    "randomly selecting a cut-off point. For all the genes before this point we pick the genes from parent A, \n",
    "after this point we use the genes of parent B. There are also multiple way to do this. \n",
    "The important factor here is that you randomize which parent a gene is from. \n",
    "\n",
    "After this certain mutations can occur. We only use a swap-mutation. \n",
    "This means that two genes swap places. There are more possible mutations. Using mutations lowers the \n",
    "probability of getting stuck in local minima. \n",
    "\n",
    "We continue this till convergence (which we chose an arbitrary formulation for, defining convergence is challenging \n",
    "and important). "
   ]
  },
  {
   "cell_type": "code",
   "execution_count": 13,
   "metadata": {
    "pycharm": {
     "is_executing": true,
     "name": "#%%\n"
    }
   },
   "outputs": [],
   "source": [
    "def genetic_solver(problem, population_size = 50, n_parents=8, mutation_probability=0.05):\n",
    "    population = []\n",
    "    best_fitness = -np.inf\n",
    "    converged = False\n",
    "    best_sample = None\n",
    "    best_sample_score = -np.inf\n",
    "    \n",
    "    # Define the original population. \n",
    "    for n_chromosome in range(population_size):\n",
    "        #python has the annoying thing, that if you append lists to a list, \n",
    "        #they just append pointers to a memory place. So if you change it you change every nested list. \n",
    "        #we need to make a deepcopy. \n",
    "        chromosome = copy.deepcopy(problem) \n",
    "        for i in range(len(chromosome)):\n",
    "            chromosome[i][2] = random.randint(0, 1)\n",
    "        population.append((chromosome, objective(chromosome)))\n",
    "\n",
    "    while not converged:\n",
    "        children = []\n",
    "        average_fitness = 0  \n",
    "        \n",
    "        # sort the population based on fitness ans select the best. \n",
    "        population.sort(key=lambda pair: pair[1], reverse=True)\n",
    "        parent_population = [parent[0] for parent in population[:n_parents]]\n",
    "        \n",
    "        # make sure that the number of children == population size, so that doesnt change. \n",
    "        while len(children) < population_size:\n",
    "            \n",
    "            # randomly select two parents\n",
    "            parents = random.sample(parent_population, 2)\n",
    "            \n",
    "            #randomly select a crossover point\n",
    "            cross_over_point = random.randint(1, len(problem[0]))\n",
    "            \n",
    "            # now we are making a new child/chromosome/individual\n",
    "            # for every gene in both parents, if it is before the cross over point use parentsA gene, else parent B\n",
    "            child = []\n",
    "            for gene, p in enumerate(zip(parents[0], parents[1])):\n",
    "                if gene<cross_over_point:\n",
    "                    child.append(p[0])\n",
    "                else:\n",
    "                    child.append(p[1])\n",
    "            \n",
    "            # randomly swap two genes with a small probability. \n",
    "            if random.random() < mutation_probability:\n",
    "                swap_indices = random.sample(list(range(len(chromosome))), 2)\n",
    "                geneA = child[swap_indices[0]][2]\n",
    "                geneB = child[swap_indices[1]][2]\n",
    "                child[swap_indices[0]][2] = geneB\n",
    "                child[swap_indices[1]][2] = geneA\n",
    "            \n",
    "            # calculate the fitness of this style. Always store the best. \n",
    "            childs_fitness = objective(child)\n",
    "            if childs_fitness>best_sample_score:\n",
    "                best_sample_score = childs_fitness\n",
    "                best_sample = child\n",
    "            \n",
    "            # save the kid and calculate the average fitness of this population\n",
    "            average_fitness += childs_fitness/population_size\n",
    "            children.append((copy.deepcopy(child), childs_fitness))\n",
    "\n",
    "        # continue till we are converged. \n",
    "        # We define converge if our average fitness is not better than 95% of the current best know fitness.\n",
    "        if  average_fitness > 0.95*best_fitness:\n",
    "            best_fitness = average_fitness\n",
    "            population = copy.deepcopy(children)\n",
    "        else:\n",
    "            return (best_sample, objective(best_sample))"
   ]
  },
  {
   "cell_type": "code",
   "execution_count": 14,
   "metadata": {
    "pycharm": {
     "is_executing": true,
     "name": "#%%\n"
    },
    "scrolled": true
   },
   "outputs": [
    {
     "name": "stdout",
     "output_type": "stream",
     "text": [
      "([['Velko', 1, 0], ['Andreas', 2.22, 1], ['Otmar', 3, 1], ['Hugo', 2, 0], ['Christian', 3, 1], ['David', 2.5, 1], ['Thomas', 1.25, 0]], 5.376)\n",
      "47.9 ms ± 8 ms per loop (mean ± std. dev. of 7 runs, 10 loops each)\n"
     ]
    }
   ],
   "source": [
    "print(genetic_solver(problem))\n",
    "%timeit genetic_solver(problem)\n",
    "\n"
   ]
  },
  {
   "cell_type": "code",
   "execution_count": null,
   "metadata": {},
   "outputs": [],
   "source": []
  }
 ],
 "metadata": {
  "kernelspec": {
   "display_name": "Python 3",
   "language": "python",
   "name": "python3"
  },
  "language_info": {
   "codemirror_mode": {
    "name": "ipython",
    "version": 3
   },
   "file_extension": ".py",
   "mimetype": "text/x-python",
   "name": "python",
   "nbconvert_exporter": "python",
   "pygments_lexer": "ipython3",
   "version": "3.8.2"
  }
 },
 "nbformat": 4,
 "nbformat_minor": 1
}