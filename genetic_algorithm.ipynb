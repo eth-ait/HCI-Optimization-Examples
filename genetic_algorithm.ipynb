{
 "cells": [
  {
   "cell_type": "code",
   "execution_count": 102,
   "metadata": {
    "pycharm": {
     "is_executing": true
    }
   },
   "outputs": [],
   "source": [
    "import random\n",
    "import numpy as np\n",
    "import copy\n"
   ]
  },
  {
   "cell_type": "code",
   "execution_count": 103,
   "metadata": {
    "pycharm": {
     "is_executing": true,
     "name": "#%%\n"
    }
   },
   "outputs": [],
   "source": [
    "#[who, importance, show]\n",
    "problem = [\n",
    "    [\"Velko\", 1, 0],\n",
    "    [\"Andreas\", 2.22, 0],\n",
    "    [\"Otmar\",3, 0],\n",
    "    [\"Hugo\",2,0],\n",
    "    [\"Christian\",3,0],\n",
    "    [\"David\",2.5,0],\n",
    "    [\"Thomas\",1.25,0]\n",
    "]"
   ]
  },
  {
   "cell_type": "code",
   "execution_count": 138,
   "metadata": {
    "pycharm": {
     "is_executing": true,
     "name": "#%%\n"
    }
   },
   "outputs": [],
   "source": [
    "def objective(possible_solution):\n",
    "    score = 0\n",
    "    n_shown = 0\n",
    "    for person in possible_solution:\n",
    "        score += person[1] * person[2]\n",
    "        n_shown += person[2]\n",
    "    return 0.8*score - 0.2*n_shown**2"
   ]
  },
  {
   "cell_type": "code",
   "execution_count": 153,
   "metadata": {
    "pycharm": {
     "is_executing": true,
     "name": "#%%\n"
    }
   },
   "outputs": [],
   "source": [
    "def genetic_solver(problem, population_size = 50, n_parents=8, mutation_probability=0.05):\n",
    "    population = []\n",
    "    best_fitness = -np.inf\n",
    "    converged = False\n",
    "    best_sample = None\n",
    "    best_sample_score = -np.inf\n",
    "    #make initial population and calculate fitness:\n",
    "    for n_chromosome in range(population_size):\n",
    "        chromosome = copy.deepcopy(problem)\n",
    "        for i in range(len(chromosome)):\n",
    "            chromosome[i][2] = random.randint(0, 1)\n",
    "        population.append((chromosome, objective(chromosome)))\n",
    "\n",
    "    while not converged:\n",
    "        #select parents\n",
    "        population.sort(key=lambda pair: pair[1], reverse=True)\n",
    "        parent_population = [parent[0] for parent in population[:4]]\n",
    "        children = []\n",
    "        best_childs_fitness= -np.inf\n",
    "        average_fitness = 0  \n",
    "\n",
    "        while len(children) < population_size:\n",
    "            parents = random.sample(parent_population, 2)\n",
    "            cross_over_point = random.randint(1, len(problem[0]))\n",
    "            \n",
    "            chromosome = []\n",
    "            for gene, p in enumerate(zip(parents[0], parents[1])):\n",
    "                if gene<cross_over_point:\n",
    "                    chromosome.append(p[0])\n",
    "                else:\n",
    "                    chromosome.append(p[1])\n",
    "\n",
    "            if random.random() < mutation_probability:\n",
    "                swap_indices = random.sample(list(range(len(chromosome))), 2)\n",
    "                geneA = chromosome[swap_indices[0]][2]\n",
    "                geneB = chromosome[swap_indices[1]][2]\n",
    "                chromosome[swap_indices[0]][2] = geneB\n",
    "                chromosome[swap_indices[1]][2] = geneA\n",
    "\n",
    "            childs_fitness = objective(chromosome)\n",
    "            if childs_fitness>best_sample_score:\n",
    "                best_sample_score = childs_fitness\n",
    "                best_sample = chromosome\n",
    "                \n",
    "            average_fitness += childs_fitness/population_size\n",
    "            children.append((copy.deepcopy(chromosome), childs_fitness))\n",
    "\n",
    "        if  average_fitness > 0.95*best_fitness:\n",
    "            best_fitness = average_fitness\n",
    "            population = copy.deepcopy(children)\n",
    "            print(\"Iteration done\")\n",
    "\n",
    "        else:\n",
    "            return population, best_sample"
   ]
  },
  {
   "cell_type": "code",
   "execution_count": 160,
   "metadata": {
    "pycharm": {
     "is_executing": true,
     "name": "#%%\n"
    },
    "scrolled": true
   },
   "outputs": [
    {
     "name": "stdout",
     "output_type": "stream",
     "text": [
      "Iteration done\n",
      "Iteration done\n",
      "Iteration done\n",
      "[['Velko', 1, 0], ['Andreas', 2.22, 1], ['Otmar', 3, 1], ['Hugo', 2, 0], ['Christian', 3, 1], ['David', 2.5, 1], ['Thomas', 1.25, 0]] 5.376\n"
     ]
    }
   ],
   "source": [
    "solution = genetic_solver(problem)\n",
    "print(solution[1], objective(solution[1]))\n",
    "# for s in solution:\n",
    "#     print(s)\n",
    "\n",
    "\n",
    "\n"
   ]
  },
  {
   "cell_type": "code",
   "execution_count": null,
   "metadata": {},
   "outputs": [],
   "source": []
  },
  {
   "cell_type": "code",
   "execution_count": null,
   "metadata": {},
   "outputs": [],
   "source": []
  }
 ],
 "metadata": {
  "kernelspec": {
   "display_name": "Python 3",
   "language": "python",
   "name": "python3"
  },
  "language_info": {
   "codemirror_mode": {
    "name": "ipython",
    "version": 3
   },
   "file_extension": ".py",
   "mimetype": "text/x-python",
   "name": "python",
   "nbconvert_exporter": "python",
   "pygments_lexer": "ipython3",
   "version": "3.8.2"
  }
 },
 "nbformat": 4,
 "nbformat_minor": 1
}