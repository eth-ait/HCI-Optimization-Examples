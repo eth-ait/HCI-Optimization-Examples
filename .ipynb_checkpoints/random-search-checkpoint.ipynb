{
 "cells": [
  {
   "cell_type": "code",
   "execution_count": 1,
   "metadata": {},
   "outputs": [],
   "source": [
    "import matplotlib.pyplot as plt\n",
    "import random\n",
    "import numpy as np"
   ]
  },
  {
   "cell_type": "code",
   "execution_count": 2,
   "metadata": {
    "pycharm": {
     "name": "#%%\n"
    }
   },
   "outputs": [],
   "source": [
    "#[name, importance]\n",
    "problem=[\n",
    "    [\"Home\", 0.4],\n",
    "    [\"About\",0.25],\n",
    "    [\"Save\",0.15],\n",
    "    [\"Open\",0.1],\n",
    "    [\"Export\",0.1],\n",
    "]\n"
   ]
  },
  {
   "cell_type": "code",
   "execution_count": 3,
   "metadata": {
    "pycharm": {
     "name": "#%%\n"
    }
   },
   "outputs": [],
   "source": [
    "def fitts_law(slot_index):\n",
    "    a= 0.03\n",
    "    b= 0.1\n",
    "    height = 20 #px\n",
    "    width =  100 #px\n",
    "    distance = (slot_index+1/2)*height\n",
    "    return a+b*np.log2(distance/width + 1)"
   ]
  },
  {
   "cell_type": "code",
   "execution_count": 4,
   "metadata": {
    "pycharm": {
     "name": "#%%\n"
    }
   },
   "outputs": [],
   "source": [
    "def objective(menu):\n",
    "    cost = 0\n",
    "    for slot_index, item in enumerate(menu):\n",
    "        cost += item[1]*fitts_law(slot_index)\n",
    "    return cost"
   ]
  },
  {
   "cell_type": "code",
   "execution_count": 5,
   "metadata": {
    "pycharm": {
     "name": "#%%\n"
    }
   },
   "outputs": [],
   "source": [
    "def random_solver(menu, n_iterations = 100):\n",
    "    solution = menu\n",
    "    best_cost = np.inf\n",
    "    for iteration in range(n_iterations):\n",
    "        random.shuffle(menu)\n",
    "        cost = objective(menu)\n",
    "        if cost<best_cost:\n",
    "            solution = menu.copy()\n",
    "            best_cost=cost\n",
    "    return solution"
   ]
  },
  {
   "cell_type": "code",
   "execution_count": 6,
   "metadata": {
    "pycharm": {
     "name": "#%%\n"
    }
   },
   "outputs": [],
   "source": [
    "def run(menu, solver):\n",
    "    solution = solver(menu)\n",
    "    return solution"
   ]
  },
  {
   "cell_type": "code",
   "execution_count": 7,
   "metadata": {
    "pycharm": {
     "name": "#%%\n"
    }
   },
   "outputs": [
    {
     "name": "stdout",
     "output_type": "stream",
     "text": [
      "[['Home', 0.4], ['About', 0.25], ['Save', 0.15], ['Open', 0.1], ['Export', 0.1]]\n"
     ]
    }
   ],
   "source": [
    "print(run(problem, random_solver))"
   ]
  }
 ],
 "metadata": {
  "kernelspec": {
   "display_name": "Python 3",
   "language": "python",
   "name": "python3"
  },
  "language_info": {
   "codemirror_mode": {
    "name": "ipython",
    "version": 3
   },
   "file_extension": ".py",
   "mimetype": "text/x-python",
   "name": "python",
   "nbconvert_exporter": "python",
   "pygments_lexer": "ipython3",
   "version": "3.8.2"
  }
 },
 "nbformat": 4,
 "nbformat_minor": 1
}
