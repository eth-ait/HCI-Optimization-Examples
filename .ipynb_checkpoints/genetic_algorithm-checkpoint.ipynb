{
 "cells": [
  {
   "cell_type": "code",
   "execution_count": 1,
   "metadata": {},
   "outputs": [],
   "source": [
    "import random\n",
    "import numpy as np\n",
    "\n"
   ]
  },
  {
   "cell_type": "code",
   "execution_count": 2,
   "metadata": {
    "pycharm": {
     "name": "#%%\n"
    }
   },
   "outputs": [],
   "source": [
    "#[who, importance, show]\n",
    "problem = [\n",
    "    [\"Velko\", 1, 0],\n",
    "    [\"Andreas\", 1, 0],\n",
    "    [\"Otmar\",3, 0],\n",
    "    [\"Hugo\",1,0],\n",
    "    [\"Christian\",3,0],\n",
    "    [\"David\",1,0],\n",
    "    [\"Thomas\",1,0]\n",
    "]"
   ]
  },
  {
   "cell_type": "code",
   "execution_count": 3,
   "metadata": {
    "pycharm": {
     "name": "#%%\n"
    }
   },
   "outputs": [],
   "source": [
    "def objective(possible_solution):\n",
    "    score = 0\n",
    "    for person in possible_solution:\n",
    "        score+= person[1] * person[2]\n",
    "        score-= person[2]*1.5\n",
    "    return score"
   ]
  },
  {
   "cell_type": "code",
   "execution_count": 8,
   "metadata": {
    "pycharm": {
     "name": "#%%\n"
    }
   },
   "outputs": [],
   "source": [
    "def genetic_solver(problem, population_size = 16, n_parents=4, mutation_probability=0.01):\n",
    "    population = []\n",
    "    best_fitness = np.inf\n",
    "    converged = False\n",
    "\n",
    "    #make initial population and calculate fitness:\n",
    "    for n_chromosome in range(population_size):\n",
    "        chromosome = problem\n",
    "        for person in chromosome:\n",
    "            person[2] = random.randint(0,1)\n",
    "        population.append((chromosome, objective(chromosome)))\n",
    "\n",
    "    print(\"Initial Population:\")\n",
    "    for p in population:\n",
    "        print(p)\n",
    "\n",
    "    while not converged:\n",
    "        #select parents\n",
    "        population.sort(key=lambda pair: pair[1], reverse=True)\n",
    "        parent_population = [parent[0] for parent in population[:4]]\n",
    "\n",
    "        children = []\n",
    "        best_childs_fitness= np.inf\n",
    "        while len(children) < population_size:\n",
    "            parents = random.sample(parent_population, 2)\n",
    "            cross_over_point = random.randint(1, len(problem[0]))\n",
    "            chromosome = []\n",
    "            for gene, p in enumerate(zip(parents[0], parents[1])):\n",
    "                if gene<cross_over_point:\n",
    "                    chromosome.append(p[0])\n",
    "                else:\n",
    "                    chromosome.append(p[1])\n",
    "\n",
    "            if random.random() < mutation_probability:\n",
    "                swap_indices = random.sample(list(range(len(chromosome))), 2)\n",
    "                geneA = chromosome[swap_indices[0]]\n",
    "                geneB = chromosome[swap_indices[1]]\n",
    "                chromosome[swap_indices[0]] = geneB\n",
    "                chromosome[swap_indices[1]] = geneA\n",
    "                print(\"swapped\", swap_indices, chromosome, geneA, geneB)\n",
    "            \n",
    "            childs_fitness = objective(chromosome)\n",
    "            if childs_fitness < best_childs_fitness:\n",
    "                best_childs_fitness = childs_fitness\n",
    "            children.append((chromosome, childs_fitness))\n",
    "\n",
    "\n",
    "        if best_fitness > best_childs_fitness:\n",
    "            best_fitness = best_childs_fitness\n",
    "            print(best_fitness)\n",
    "            population = children\n",
    "            print(\"Iteration done\")\n",
    "\n",
    "        else:\n",
    "            return population"
   ]
  },
  {
   "cell_type": "code",
   "execution_count": 9,
   "metadata": {
    "pycharm": {
     "name": "#%%\n"
    }
   },
   "outputs": [
    {
     "name": "stdout",
     "output_type": "stream",
     "text": [
      "Initial Population:\n",
      "([['Velko', 1, 0], ['Andreas', 1, 0], ['Otmar', 3, 0], ['Hugo', 1, 0], ['Christian', 3, 0], ['David', 1, 1], ['Thomas', 1, 0]], 0.5)\n",
      "([['Velko', 1, 0], ['Andreas', 1, 0], ['Otmar', 3, 0], ['Hugo', 1, 0], ['Christian', 3, 0], ['David', 1, 1], ['Thomas', 1, 0]], -1.0)\n",
      "([['Velko', 1, 0], ['Andreas', 1, 0], ['Otmar', 3, 0], ['Hugo', 1, 0], ['Christian', 3, 0], ['David', 1, 1], ['Thomas', 1, 0]], 0.5)\n",
      "([['Velko', 1, 0], ['Andreas', 1, 0], ['Otmar', 3, 0], ['Hugo', 1, 0], ['Christian', 3, 0], ['David', 1, 1], ['Thomas', 1, 0]], 0.0)\n",
      "([['Velko', 1, 0], ['Andreas', 1, 0], ['Otmar', 3, 0], ['Hugo', 1, 0], ['Christian', 3, 0], ['David', 1, 1], ['Thomas', 1, 0]], 1.0)\n",
      "([['Velko', 1, 0], ['Andreas', 1, 0], ['Otmar', 3, 0], ['Hugo', 1, 0], ['Christian', 3, 0], ['David', 1, 1], ['Thomas', 1, 0]], -1.5)\n",
      "([['Velko', 1, 0], ['Andreas', 1, 0], ['Otmar', 3, 0], ['Hugo', 1, 0], ['Christian', 3, 0], ['David', 1, 1], ['Thomas', 1, 0]], 0.0)\n",
      "([['Velko', 1, 0], ['Andreas', 1, 0], ['Otmar', 3, 0], ['Hugo', 1, 0], ['Christian', 3, 0], ['David', 1, 1], ['Thomas', 1, 0]], 0.5)\n",
      "([['Velko', 1, 0], ['Andreas', 1, 0], ['Otmar', 3, 0], ['Hugo', 1, 0], ['Christian', 3, 0], ['David', 1, 1], ['Thomas', 1, 0]], 0.0)\n",
      "([['Velko', 1, 0], ['Andreas', 1, 0], ['Otmar', 3, 0], ['Hugo', 1, 0], ['Christian', 3, 0], ['David', 1, 1], ['Thomas', 1, 0]], 0.0)\n",
      "([['Velko', 1, 0], ['Andreas', 1, 0], ['Otmar', 3, 0], ['Hugo', 1, 0], ['Christian', 3, 0], ['David', 1, 1], ['Thomas', 1, 0]], 1.0)\n",
      "([['Velko', 1, 0], ['Andreas', 1, 0], ['Otmar', 3, 0], ['Hugo', 1, 0], ['Christian', 3, 0], ['David', 1, 1], ['Thomas', 1, 0]], 1.5)\n",
      "([['Velko', 1, 0], ['Andreas', 1, 0], ['Otmar', 3, 0], ['Hugo', 1, 0], ['Christian', 3, 0], ['David', 1, 1], ['Thomas', 1, 0]], 2.0)\n",
      "([['Velko', 1, 0], ['Andreas', 1, 0], ['Otmar', 3, 0], ['Hugo', 1, 0], ['Christian', 3, 0], ['David', 1, 1], ['Thomas', 1, 0]], -1.5)\n",
      "([['Velko', 1, 0], ['Andreas', 1, 0], ['Otmar', 3, 0], ['Hugo', 1, 0], ['Christian', 3, 0], ['David', 1, 1], ['Thomas', 1, 0]], 0.0)\n",
      "([['Velko', 1, 0], ['Andreas', 1, 0], ['Otmar', 3, 0], ['Hugo', 1, 0], ['Christian', 3, 0], ['David', 1, 1], ['Thomas', 1, 0]], -0.5)\n",
      "-0.5\n",
      "Iteration done\n",
      "[([['Velko', 1, 0], ['Andreas', 1, 0], ['Otmar', 3, 0], ['Hugo', 1, 0], ['Christian', 3, 0], ['David', 1, 1], ['Thomas', 1, 0]], -0.5), ([['Velko', 1, 0], ['Andreas', 1, 0], ['Otmar', 3, 0], ['Hugo', 1, 0], ['Christian', 3, 0], ['David', 1, 1], ['Thomas', 1, 0]], -0.5), ([['Velko', 1, 0], ['Andreas', 1, 0], ['Otmar', 3, 0], ['Hugo', 1, 0], ['Christian', 3, 0], ['David', 1, 1], ['Thomas', 1, 0]], -0.5), ([['Velko', 1, 0], ['Andreas', 1, 0], ['Otmar', 3, 0], ['Hugo', 1, 0], ['Christian', 3, 0], ['David', 1, 1], ['Thomas', 1, 0]], -0.5), ([['Velko', 1, 0], ['Andreas', 1, 0], ['Otmar', 3, 0], ['Hugo', 1, 0], ['Christian', 3, 0], ['David', 1, 1], ['Thomas', 1, 0]], -0.5), ([['Velko', 1, 0], ['Andreas', 1, 0], ['Otmar', 3, 0], ['Hugo', 1, 0], ['Christian', 3, 0], ['David', 1, 1], ['Thomas', 1, 0]], -0.5), ([['Velko', 1, 0], ['Andreas', 1, 0], ['Otmar', 3, 0], ['Hugo', 1, 0], ['Christian', 3, 0], ['David', 1, 1], ['Thomas', 1, 0]], -0.5), ([['Velko', 1, 0], ['Andreas', 1, 0], ['Otmar', 3, 0], ['Hugo', 1, 0], ['Christian', 3, 0], ['David', 1, 1], ['Thomas', 1, 0]], -0.5), ([['Velko', 1, 0], ['Andreas', 1, 0], ['Otmar', 3, 0], ['Hugo', 1, 0], ['Christian', 3, 0], ['David', 1, 1], ['Thomas', 1, 0]], -0.5), ([['Velko', 1, 0], ['Andreas', 1, 0], ['Otmar', 3, 0], ['Hugo', 1, 0], ['Christian', 3, 0], ['David', 1, 1], ['Thomas', 1, 0]], -0.5), ([['Velko', 1, 0], ['Andreas', 1, 0], ['Otmar', 3, 0], ['Hugo', 1, 0], ['Christian', 3, 0], ['David', 1, 1], ['Thomas', 1, 0]], -0.5), ([['Velko', 1, 0], ['Andreas', 1, 0], ['Otmar', 3, 0], ['Hugo', 1, 0], ['Christian', 3, 0], ['David', 1, 1], ['Thomas', 1, 0]], -0.5), ([['Velko', 1, 0], ['Andreas', 1, 0], ['Otmar', 3, 0], ['Hugo', 1, 0], ['Christian', 3, 0], ['David', 1, 1], ['Thomas', 1, 0]], -0.5), ([['Velko', 1, 0], ['Andreas', 1, 0], ['Otmar', 3, 0], ['Hugo', 1, 0], ['Christian', 3, 0], ['David', 1, 1], ['Thomas', 1, 0]], -0.5), ([['Velko', 1, 0], ['Andreas', 1, 0], ['Otmar', 3, 0], ['Hugo', 1, 0], ['Christian', 3, 0], ['David', 1, 1], ['Thomas', 1, 0]], -0.5), ([['Velko', 1, 0], ['Andreas', 1, 0], ['Otmar', 3, 0], ['Hugo', 1, 0], ['Christian', 3, 0], ['David', 1, 1], ['Thomas', 1, 0]], -0.5)]\n"
     ]
    }
   ],
   "source": [
    "solution genetic_solver(problem)\n",
    "\n",
    "\n",
    "\n",
    "\n",
    "\n",
    "\n"
   ]
  },
  {
   "cell_type": "code",
   "execution_count": null,
   "metadata": {},
   "outputs": [],
   "source": []
  }
 ],
 "metadata": {
  "kernelspec": {
   "display_name": "Python 3",
   "language": "python",
   "name": "python3"
  },
  "language_info": {
   "codemirror_mode": {
    "name": "ipython",
    "version": 3
   },
   "file_extension": ".py",
   "mimetype": "text/x-python",
   "name": "python",
   "nbconvert_exporter": "python",
   "pygments_lexer": "ipython3",
   "version": "3.8.2"
  }
 },
 "nbformat": 4,
 "nbformat_minor": 1
}
