{
 "cells": [
  {
   "cell_type": "code",
   "execution_count": 7,
   "metadata": {
    "pycharm": {
     "is_executing": true
    }
   },
   "outputs": [
    {
     "data": {
      "text/plain": [
       "'Taken from: https://github.com/eth-ait/ComputationalInteraction17/tree/master/Anna%20%26%20Antti'"
      ]
     },
     "execution_count": 7,
     "metadata": {},
     "output_type": "execute_result"
    }
   ],
   "source": [
    "\"Taken from: https://github.com/eth-ait/ComputationalInteraction17/tree/master/Anna%20%26%20Antti\"\n"
   ]
  },
  {
   "cell_type": "code",
   "execution_count": 8,
   "metadata": {
    "pycharm": {
     "is_executing": true,
     "name": "#%%\n"
    }
   },
   "outputs": [],
   "source": [
    "import utils_QAP\n",
    "import gurobipy"
   ]
  },
  {
   "cell_type": "code",
   "execution_count": 9,
   "metadata": {
    "pycharm": {
     "is_executing": true,
     "name": "#%%\n"
    }
   },
   "outputs": [],
   "source": [
    "def solve(characters, keyslots, bigram_frequency, movement_time, columns):\n",
    "    # ==== 1. Create the (empty) model ====\n",
    "    model = gurobipy.Model(\"keyboard\")\n",
    "\n",
    "    # ==== 2. Add decision variables ======\n",
    "    x = {}\n",
    "    # Create one binary variable for each letter-key pair.\n",
    "    # We give it a meaningful name so we later understand what it means if it is set to 1\n",
    "    for i in characters:\n",
    "        for k in keyslots:\n",
    "            x[(i, k)] = model.addVar(vtype=gurobipy.GRB.BINARY, name=\"%s_%i\" % (i, k))\n",
    "            # Integrate new variables\n",
    "    model.update()\n",
    "\n",
    "    # ==== 3. Specify Objective function ======\n",
    "    cost = gurobipy.quicksum(\n",
    "        bigram_frequency[i, j] * movement_time[k, l] * x[(i, k)] * x[(j, l)]\n",
    "        for l in keyslots\n",
    "        for k in keyslots\n",
    "        for i in characters\n",
    "        for j in characters\n",
    "    )\n",
    "    model.setObjective(cost, gurobipy.GRB.MINIMIZE)\n",
    "\n",
    "    # ====4. Add Constraints ======\n",
    "    # Add constraints\n",
    "    # Each letter is only assigned to one keyslot\n",
    "    for i in characters:\n",
    "        model.addConstr(\n",
    "            gurobipy.quicksum(x[(i, k)] for k in keyslots) == 1,\n",
    "            \"uniqueness_constraint_%s\" % i,\n",
    "        )\n",
    "        # Each element is only assigned to one position\n",
    "    for k in keyslots:\n",
    "        model.addConstr(\n",
    "            gurobipy.quicksum(x[(i, k)] for i in characters) <= 1,\n",
    "            \"uniqueness_constraint_%i\" % k,\n",
    "        )\n",
    "\n",
    "    model.update()\n",
    "\n",
    "    # ==== 5. Optimize model ======\n",
    "    p = model.presolve()\n",
    "    p.write(\"presolve.lp\")\n",
    "    model.optimize()\n",
    "\n",
    "    # ====6. Extract solution ======\n",
    "    mapping = {}\n",
    "\n",
    "    for v in model.getVars():\n",
    "        if v.x == 1:\n",
    "            character = v.varName.split(\"_\")[0]\n",
    "            slot = int(v.varName.split(\"_\")[1])\n",
    "            mapping[character] = slot\n",
    "\n",
    "    return mapping, model.getObjective().getValue()"
   ]
  },
  {
   "cell_type": "code",
   "execution_count": 10,
   "metadata": {
    "pycharm": {
     "is_executing": true,
     "name": "#%%\n"
    }
   },
   "outputs": [],
   "source": [
    "# define characters and keyslots\n",
    "characters = [\"a\", \"b\", \"c\", \"d\", \"e\", \"f\", \"g\", \"h\", \"i\"]\n",
    "keyslots = list(range(len(characters)))\n",
    "columns = 3\n",
    "\n",
    "\n",
    "# obtain cost factors: movement time and bigram frequencies\n",
    "movement_time = {\n",
    "    (s1, s2): utils_QAP.fittslawcost(s1, s2, utils_QAP.distance(columns, s1, s2))\n",
    "    for s1 in keyslots\n",
    "    for s2 in keyslots\n",
    "}\n",
    "\n",
    "bigram_frequency = utils_QAP.get_bigram_frequency(characters)"
   ]
  },
  {
   "cell_type": "code",
   "execution_count": 11,
   "metadata": {
    "pycharm": {
     "is_executing": true,
     "name": "#%%\n"
    }
   },
   "outputs": [
    {
     "name": "stdout",
     "output_type": "stream",
     "text": [
      "Presolve time: 0.00s\n",
      "Gurobi Optimizer version 9.1.0 build v9.1.0rc0 (win64)\n",
      "Thread count: 6 physical cores, 12 logical processors, using up to 12 threads\n",
      "Optimize a model with 18 rows, 81 columns and 162 nonzeros\n",
      "Model fingerprint: 0x14a852c4\n",
      "Model has 3321 quadratic objective terms\n",
      "Variable types: 0 continuous, 81 integer (81 binary)\n",
      "Coefficient statistics:\n",
      "  Matrix range     [1e+00, 1e+00]\n",
      "  Objective range  [0e+00, 0e+00]\n",
      "  QObjective range [5e-07, 8e-01]\n",
      "  Bounds range     [1e+00, 1e+00]\n",
      "  RHS range        [1e+00, 1e+00]\n",
      "Found heuristic solution: objective 0.3269711\n",
      "Presolve time: 0.00s\n",
      "Presolved: 18 rows, 81 columns, 162 nonzeros\n",
      "Presolved model has 3321 quadratic objective terms\n",
      "Variable types: 0 continuous, 81 integer (81 binary)\n",
      "\n",
      "Root relaxation: objective -1.799915e+00, 100 iterations, 0.00 seconds\n",
      "\n",
      "    Nodes    |    Current Node    |     Objective Bounds      |     Work\n",
      " Expl Unexpl |  Obj  Depth IntInf | Incumbent    BestBd   Gap | It/Node Time\n",
      "\n",
      "H    0     0                       0.2362524    0.00000   100%     -    0s\n",
      "     0     0    0.00069    0   81    0.23625    0.00069   100%     -    0s\n",
      "H    0     0                       0.2190826    0.00069   100%     -    0s\n",
      "H    0     0                       0.2104517    0.00069   100%     -    0s\n",
      "H    0     0                       0.2102572    0.00069   100%     -    0s\n",
      "H    0     0                       0.2096506    0.00069   100%     -    0s\n",
      "     0     0    0.00069    0   81    0.20965    0.00069   100%     -    0s\n",
      "H    0     0                       0.2085088    0.00069   100%     -    0s\n",
      "H    0     2                       0.2084585    0.00069   100%     -    0s\n",
      "     0     2    0.00069    0   81    0.20846    0.00069   100%     -    0s\n",
      "H   29    21                       0.2082899    0.00069   100%   5.0    0s\n",
      "H   30    21                       0.2081895    0.00069   100%   4.9    0s\n",
      "H   61    49                       0.2077003    0.00069   100%   5.1    0s\n",
      "*25412  2986              34       0.2076107    0.18958  8.68%   4.5    1s\n",
      "\n",
      "Explored 47069 nodes (205322 simplex iterations) in 2.30 seconds\n",
      "Thread count was 12 (of 12 available processors)\n",
      "\n",
      "Solution count 10: 0.207611 0.2077 0.20819 ... 0.219083\n",
      "\n",
      "Optimal solution found (tolerance 1.00e-04)\n",
      "Best objective 2.076107300131e-01, best bound 2.076107300131e-01, gap 0.0000%\n",
      "The average WPM of the winning keyboard is 57.80\n"
     ]
    }
   ],
   "source": [
    "mapping, objective = solve(\n",
    "    characters, keyslots, bigram_frequency, movement_time, columns\n",
    ")\n",
    "print(\"The average WPM of the winning keyboard is %.2f\" % utils_QAP.wpm(objective))"
   ]
  },
  {
   "cell_type": "code",
   "execution_count": 12,
   "metadata": {
    "pycharm": {
     "is_executing": true,
     "name": "#%%\n"
    }
   },
   "outputs": [
    {
     "name": "stdout",
     "output_type": "stream",
     "text": [
      "3 1 0 2.0 6.5\n",
      "6 2 0 2.0 11.0\n",
      "2 0 2 11.0 2.0\n",
      "7 2 1 6.5 11.0\n",
      "4 1 1 6.5 6.5\n",
      "8 2 2 11.0 11.0\n",
      "0 0 0 2.0 2.0\n",
      "1 0 1 6.5 2.0\n",
      "5 1 2 11.0 6.5\n"
     ]
    },
    {
     "data": {
      "image/png": "[encoded data removed]",
      "text/plain": [
       "<Figure size 216x216 with 1 Axes>"
      ]
     },
     "metadata": {
      "needs_background": "light"
     },
     "output_type": "display_data"
    }
   ],
   "source": [
    "utils_QAP.plot_keyboard(mapping, columns)\n",
    "\n"
   ]
  },
  {
   "cell_type": "code",
   "execution_count": null,
   "metadata": {},
   "outputs": [],
   "source": []
  }
 ],
 "metadata": {
  "kernelspec": {
   "display_name": "Python 3",
   "language": "python",
   "name": "python3"
  },
  "language_info": {
   "codemirror_mode": {
    "name": "ipython",
    "version": 3
   },
   "file_extension": ".py",
   "mimetype": "text/x-python",
   "name": "python",
   "nbconvert_exporter": "python",
   "pygments_lexer": "ipython3",
   "version": "3.8.2"
  }
 },
 "nbformat": 4,
 "nbformat_minor": 1
}
